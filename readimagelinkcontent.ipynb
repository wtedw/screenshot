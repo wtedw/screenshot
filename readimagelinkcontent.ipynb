{
 "cells": [
  {
   "cell_type": "code",
   "execution_count": 43,
   "metadata": {},
   "outputs": [],
   "source": [
    "import pathlib\n",
    "import textwrap\n",
    "import os\n",
    "import PIL.Image\n",
    "import google.generativeai as genai\n",
    "import json\n",
    "#have to restart terminal after editing.env\n",
    "\n",
    "GOOGLE_API_KEY=os.getenv('GOOGLE_API_KEY')\n",
    "genai.configure(api_key=GOOGLE_API_KEY)\n"
   ]
  },
  {
   "cell_type": "code",
   "execution_count": 44,
   "metadata": {},
   "outputs": [],
   "source": [
    "# for m in genai.list_models():\n",
    "#   if 'generateContent' in m.supported_generation_methods:\n",
    "#     print(m.name)\n",
    "\n",
    "model = genai.GenerativeModel('gemini-1.5-flash', generation_config={\"response_mime_type\": \"application/json\"})\n",
    "\n",
    "# different model 1.5 pro can pass strictly follow schema\n",
    "# https://ai.google.dev/gemini-api/docs/api-overview#json"
   ]
  },
  {
   "cell_type": "code",
   "execution_count": 45,
   "metadata": {},
   "outputs": [
    {
     "data": {
      "text/plain": [
       "response:\n",
       "GenerateContentResponse(\n",
       "    done=True,\n",
       "    iterator=None,\n",
       "    result=protos.GenerateContentResponse({\n",
       "      \"candidates\": [\n",
       "        {\n",
       "          \"content\": {\n",
       "            \"parts\": [\n",
       "              {\n",
       "                \"text\": \"[{\\\"url\\\": \\\"https://stock.adobe.com/au/images/little-girl-looking-at-horse-poop-while-on-a-nature-walk/457419181\\\", \\\"summary\\\": \\\"The image shows a young girl looking at a pile of horse manure during a nature walk. She is wearing a pink jacket and has her hair tied up in a ponytail. The image is focused on the girl and her expression of curiosity, making it appropriate for use in projects related to childhood curiosity, nature, or the outdoors.\\\"}]\\n\"\n",
       "              }\n",
       "            ],\n",
       "            \"role\": \"model\"\n",
       "          },\n",
       "          \"finish_reason\": \"STOP\",\n",
       "          \"index\": 0,\n",
       "          \"safety_ratings\": [\n",
       "            {\n",
       "              \"category\": \"HARM_CATEGORY_SEXUALLY_EXPLICIT\",\n",
       "              \"probability\": \"NEGLIGIBLE\"\n",
       "            },\n",
       "            {\n",
       "              \"category\": \"HARM_CATEGORY_HATE_SPEECH\",\n",
       "              \"probability\": \"NEGLIGIBLE\"\n",
       "            },\n",
       "            {\n",
       "              \"category\": \"HARM_CATEGORY_HARASSMENT\",\n",
       "              \"probability\": \"NEGLIGIBLE\"\n",
       "            },\n",
       "            {\n",
       "              \"category\": \"HARM_CATEGORY_DANGEROUS_CONTENT\",\n",
       "              \"probability\": \"NEGLIGIBLE\"\n",
       "            }\n",
       "          ],\n",
       "          \"citation_metadata\": {}\n",
       "        }\n",
       "      ],\n",
       "      \"prompt_feedback\": {},\n",
       "      \"usage_metadata\": {\n",
       "        \"prompt_token_count\": 101,\n",
       "        \"candidates_token_count\": 120,\n",
       "        \"total_token_count\": 221\n",
       "      }\n",
       "    }),\n",
       ")"
      ]
     },
     "metadata": {},
     "output_type": "display_data"
    }
   ],
   "source": [
    "img = PIL.Image.open('chromess.png')\n",
    "img\n",
    "# response = model.generate_content(img)\n",
    "# print(response.text)\n",
    "prompt = \"\"\"\n",
    "  List what is the url in this screenshot and provide a summary of the content\n",
    "  \n",
    "  Using this JSON schema:\n",
    "\n",
    "  Screenshot = {\"url\": str, \"summary\": str}\n",
    "\n",
    "  Return a `list[Screenshot]`\n",
    "\n",
    "  Given the image link\n",
    "  https://stock.adobe.com/au/images/little-girl-looking-at-horse-poop-while-on-a-nature-walk/457419181\n",
    "\"\"\"\n",
    "  # https://imgur.com/gallery/reddit-VAblCRO\n",
    "  # https://i.imgur.com/WY5B7d3.png\n",
    "\n",
    "response = model.generate_content([prompt], stream=True)\n",
    "response.resolve()\n",
    "\n",
    "display(response)"
   ]
  },
  {
   "cell_type": "code",
   "execution_count": 46,
   "metadata": {},
   "outputs": [
    {
     "data": {
      "text/plain": [
       "str"
      ]
     },
     "metadata": {},
     "output_type": "display_data"
    },
    {
     "data": {
      "text/plain": [
       "'[{\"url\": \"https://stock.adobe.com/au/images/little-girl-looking-at-horse-poop-while-on-a-nature-walk/457419181\", \"summary\": \"The image shows a young girl looking at a pile of horse manure during a nature walk. She is wearing a pink jacket and has her hair tied up in a ponytail. The image is focused on the girl and her expression of curiosity, making it appropriate for use in projects related to childhood curiosity, nature, or the outdoors.\"}]\\n'"
      ]
     },
     "metadata": {},
     "output_type": "display_data"
    }
   ],
   "source": [
    "display(type(response.text))\n",
    "display(response.text)"
   ]
  },
  {
   "cell_type": "code",
   "execution_count": 47,
   "metadata": {},
   "outputs": [
    {
     "name": "stdout",
     "output_type": "stream",
     "text": [
      "[{'url': 'https://stock.adobe.com/au/images/little-girl-looking-at-horse-poop-while-on-a-nature-walk/457419181', 'summary': 'The image shows a young girl looking at a pile of horse manure during a nature walk. She is wearing a pink jacket and has her hair tied up in a ponytail. The image is focused on the girl and her expression of curiosity, making it appropriate for use in projects related to childhood curiosity, nature, or the outdoors.'}]\n",
      "https://stock.adobe.com/au/images/little-girl-looking-at-horse-poop-while-on-a-nature-walk/457419181\n"
     ]
    }
   ],
   "source": [
    "data = json.loads(response.text)\n",
    "\n",
    "# Now \"data\" is a list containing a single dictionary\n",
    "print(data)\n",
    "# Access the dictionary within the list (if needed)\n",
    "first_dict = data[0]\n",
    "print(first_dict[\"url\"]) "
   ]
  }
 ],
 "metadata": {
  "kernelspec": {
   "display_name": "aihackathon",
   "language": "python",
   "name": "python3"
  },
  "language_info": {
   "codemirror_mode": {
    "name": "ipython",
    "version": 3
   },
   "file_extension": ".py",
   "mimetype": "text/x-python",
   "name": "python",
   "nbconvert_exporter": "python",
   "pygments_lexer": "ipython3",
   "version": "3.12.3"
  }
 },
 "nbformat": 4,
 "nbformat_minor": 2
}
